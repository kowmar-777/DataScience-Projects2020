{
 "cells": [
  {
   "cell_type": "code",
   "execution_count": 300,
   "metadata": {},
   "outputs": [],
   "source": [
    "import matplotlib.pyplot as plt\n",
    "\n",
    "\n",
    "import pandas as pd\n",
    "import numpy as np\n",
    "from sklearn.tree import DecisionTreeClassifier\n",
    "from sklearn.model_selection import StratifiedShuffleSplit\n",
    "from sklearn.preprocessing import StandardScaler\n",
    "from sklearn.metrics import confusion_matrix, precision_score, recall_score, roc_auc_score, precision_recall_curve,accuracy_score"
   ]
  },
  {
   "cell_type": "markdown",
   "metadata": {},
   "source": [
    "## funkcja do zapisu w raporcie"
   ]
  },
  {
   "cell_type": "code",
   "execution_count": 301,
   "metadata": {},
   "outputs": [],
   "source": [
    "zestawienie_koszt_prog = pd.DataFrame(columns=['próg','precyzja','czułość','dokładność', 'tp','tn','fp','fn','zysk_lub_strata'])"
   ]
  },
  {
   "cell_type": "code",
   "execution_count": 302,
   "metadata": {},
   "outputs": [],
   "source": [
    "def aktualizuj_raport(raport,prog,precyzja,cz,dokl, tp,tn,fp,fn,zysk_lub_strata):\n",
    "    return raport.append({'próg':prog,'precyzja':precyzja,'czułość':cz,'dokładność':dokl,\n",
    "                          'tp':tp,'tn':tn,'fp':fp,'fn':fn,'zysk_lub_strata':zysk_lub_strata},ignore_index=True)"
   ]
  },
  {
   "cell_type": "markdown",
   "metadata": {},
   "source": [
    "# wczytanie danych i wytrenowanie drzewka"
   ]
  },
  {
   "cell_type": "code",
   "execution_count": 303,
   "metadata": {},
   "outputs": [],
   "source": [
    "dane1 = pd.read_excel('zb1.xlsx')\n",
    "cechy = ['AssetZip', 'Lat', 'Long', 'AvgRepairCost',\n",
    "       'Age', 'PMLate', 'WaterExposure', 'MultipleConnects', 'Storm',\n",
    "       'Overloads', 'MilesFromOcean', 'Repairs', 'GE', 'Other',\n",
    "       'Schneider Electric', 'Siemens', '1-Phase Pole Transformer',\n",
    "       '3-Phase Transformer', 'DF-series Transformer', 'Padmount Transformer',\n",
    "       'Voltage Transformer']\n",
    "scaler = StandardScaler()\n",
    "przeskalowane = scaler.fit_transform(dane1[cechy])\n",
    "dane_przeskalowane = pd.DataFrame(data=przeskalowane,columns=cechy)\n",
    "split = StratifiedShuffleSplit(n_splits=1,test_size=0.3, random_state=42)\n",
    "for train_index, test_index in split.split(dane_przeskalowane, dane_przeskalowane[['PMLate','Storm','WaterExposure','MilesFromOcean']]):\n",
    "    X_train= dane_przeskalowane.loc[train_index]\n",
    "    y_train = dane1['Status'].loc[train_index]\n",
    "    X_test = dane_przeskalowane.loc[test_index]\n",
    "    y_test = dane1['Status'].loc[test_index]\n"
   ]
  },
  {
   "cell_type": "code",
   "execution_count": 304,
   "metadata": {},
   "outputs": [],
   "source": [
    "tmp_cechy = ['Age', 'Schneider Electric', 'Siemens', '1-Phase Pole Transformer', '3-Phase Transformer', 'Overloads', 'MilesFromOcean']"
   ]
  },
  {
   "cell_type": "code",
   "execution_count": 305,
   "metadata": {},
   "outputs": [
    {
     "data": {
      "text/plain": [
       "array([[511,  27],\n",
       "       [ 62, 601]], dtype=int64)"
      ]
     },
     "execution_count": 305,
     "metadata": {},
     "output_type": "execute_result"
    }
   ],
   "source": [
    "clf = DecisionTreeClassifier(random_state=0)\n",
    "clf.fit(X_train[tmp_cechy],y_train)\n",
    "yt_pred = clf.predict(X_train[tmp_cechy])\n",
    "confusion_matrix(y_train,yt_pred)\n",
    "    "
   ]
  },
  {
   "cell_type": "code",
   "execution_count": 306,
   "metadata": {},
   "outputs": [
    {
     "data": {
      "text/plain": [
       "27"
      ]
     },
     "execution_count": 306,
     "metadata": {},
     "output_type": "execute_result"
    }
   ],
   "source": [
    "confusion_matrix(y_train,yt_pred)[0,1]"
   ]
  },
  {
   "cell_type": "code",
   "execution_count": 307,
   "metadata": {},
   "outputs": [],
   "source": [
    "max_depths = np.linspace(1, 17, 17, endpoint=True)\n",
    "\n",
    "zb_trenujacy_wyniki = []\n",
    "zb_testowy_wyniki = []\n",
    "caly_zb_wyniki_acc = []\n",
    "caly_zb_wyniki_prec = []\n",
    "caly_zb_wyniki_cz = []\n",
    "\n",
    "dokladnosc = []\n",
    "y = dane1['Status']\n",
    "ile_cech = list(range(1,len(tmp_cechy)))\n",
    "\n",
    "for element in max_depths:\n",
    "        clf = DecisionTreeClassifier(max_depth=element,random_state=0)\n",
    "        clf.fit(X_train[tmp_cechy],y_train)\n",
    "        \n",
    "        y_cale_pred = clf.predict(dane_przeskalowane[tmp_cechy])\n",
    "        yt_pred = clf.predict(X_train[tmp_cechy])\n",
    "        y_pred = clf.predict(X_test[tmp_cechy])\n",
    "    \n",
    "        \n",
    "        zb_trenujacy_wyniki.append(accuracy_score(y_train,yt_pred))\n",
    "        zb_testowy_wyniki.append(accuracy_score(y_test,y_pred))\n",
    "        caly_zb_wyniki_acc.append(accuracy_score(y,y_cale_pred))\n",
    "        caly_zb_wyniki_prec.append(precision_score(y,y_cale_pred))\n",
    "        caly_zb_wyniki_cz.append(recall_score(y,y_cale_pred))\n",
    "        \n",
    "        precyzja = precision_score(y_test,y_pred)\n",
    "        cz = recall_score(y_test,y_pred)\n",
    "        dokl=accuracy_score(y_test,y_pred)\n",
    "        \n",
    "        cm = confusion_matrix(y_test,y_pred)\n",
    "        tp =cm[0,0]\n",
    "        tn =cm[1,0]\n",
    "        fp =cm[0,1]\n",
    "        fn = cm[1,1]\n",
    "        \n",
    "        wynik = tp*(100) + tn*(-30) + fp*(-100) + fn*(0)\n",
    "        prog = 100*(tn+fp)/(tp+tn+fp+fn)\n",
    "        \n",
    "        zestawienie_koszt_prog = aktualizuj_raport(zestawienie_koszt_prog,prog,precyzja,cz,dokl, tp,tn,fp,fn,wynik)\n",
    "\n",
    "        "
   ]
  },
  {
   "cell_type": "code",
   "execution_count": 308,
   "metadata": {},
   "outputs": [
    {
     "data": {
      "text/html": [
       "<div>\n",
       "<style scoped>\n",
       "    .dataframe tbody tr th:only-of-type {\n",
       "        vertical-align: middle;\n",
       "    }\n",
       "\n",
       "    .dataframe tbody tr th {\n",
       "        vertical-align: top;\n",
       "    }\n",
       "\n",
       "    .dataframe thead th {\n",
       "        text-align: right;\n",
       "    }\n",
       "</style>\n",
       "<table border=\"1\" class=\"dataframe\">\n",
       "  <thead>\n",
       "    <tr style=\"text-align: right;\">\n",
       "      <th></th>\n",
       "      <th>próg</th>\n",
       "      <th>precyzja</th>\n",
       "      <th>czułość</th>\n",
       "      <th>dokładność</th>\n",
       "      <th>tp</th>\n",
       "      <th>tn</th>\n",
       "      <th>fp</th>\n",
       "      <th>fn</th>\n",
       "      <th>zysk_lub_strata</th>\n",
       "    </tr>\n",
       "  </thead>\n",
       "  <tbody>\n",
       "    <tr>\n",
       "      <th>3</th>\n",
       "      <td>31.650485</td>\n",
       "      <td>0.656566</td>\n",
       "      <td>0.905923</td>\n",
       "      <td>0.683495</td>\n",
       "      <td>92.0</td>\n",
       "      <td>27.0</td>\n",
       "      <td>136.0</td>\n",
       "      <td>260.0</td>\n",
       "      <td>-5210.0</td>\n",
       "    </tr>\n",
       "    <tr>\n",
       "      <th>1</th>\n",
       "      <td>35.533981</td>\n",
       "      <td>0.649425</td>\n",
       "      <td>0.787456</td>\n",
       "      <td>0.644660</td>\n",
       "      <td>106.0</td>\n",
       "      <td>61.0</td>\n",
       "      <td>122.0</td>\n",
       "      <td>226.0</td>\n",
       "      <td>-3430.0</td>\n",
       "    </tr>\n",
       "    <tr>\n",
       "      <th>0</th>\n",
       "      <td>36.310680</td>\n",
       "      <td>0.648810</td>\n",
       "      <td>0.759582</td>\n",
       "      <td>0.636893</td>\n",
       "      <td>110.0</td>\n",
       "      <td>69.0</td>\n",
       "      <td>118.0</td>\n",
       "      <td>218.0</td>\n",
       "      <td>-2870.0</td>\n",
       "    </tr>\n",
       "    <tr>\n",
       "      <th>5</th>\n",
       "      <td>27.961165</td>\n",
       "      <td>0.699164</td>\n",
       "      <td>0.874564</td>\n",
       "      <td>0.720388</td>\n",
       "      <td>120.0</td>\n",
       "      <td>36.0</td>\n",
       "      <td>108.0</td>\n",
       "      <td>251.0</td>\n",
       "      <td>120.0</td>\n",
       "    </tr>\n",
       "    <tr>\n",
       "      <th>2</th>\n",
       "      <td>33.203883</td>\n",
       "      <td>0.690789</td>\n",
       "      <td>0.731707</td>\n",
       "      <td>0.667961</td>\n",
       "      <td>134.0</td>\n",
       "      <td>77.0</td>\n",
       "      <td>94.0</td>\n",
       "      <td>210.0</td>\n",
       "      <td>1690.0</td>\n",
       "    </tr>\n",
       "    <tr>\n",
       "      <th>4</th>\n",
       "      <td>27.184466</td>\n",
       "      <td>0.719403</td>\n",
       "      <td>0.839721</td>\n",
       "      <td>0.728155</td>\n",
       "      <td>134.0</td>\n",
       "      <td>46.0</td>\n",
       "      <td>94.0</td>\n",
       "      <td>241.0</td>\n",
       "      <td>2620.0</td>\n",
       "    </tr>\n",
       "    <tr>\n",
       "      <th>6</th>\n",
       "      <td>23.300971</td>\n",
       "      <td>0.750751</td>\n",
       "      <td>0.871080</td>\n",
       "      <td>0.766990</td>\n",
       "      <td>145.0</td>\n",
       "      <td>37.0</td>\n",
       "      <td>83.0</td>\n",
       "      <td>250.0</td>\n",
       "      <td>5090.0</td>\n",
       "    </tr>\n",
       "    <tr>\n",
       "      <th>7</th>\n",
       "      <td>21.941748</td>\n",
       "      <td>0.773585</td>\n",
       "      <td>0.857143</td>\n",
       "      <td>0.780583</td>\n",
       "      <td>156.0</td>\n",
       "      <td>41.0</td>\n",
       "      <td>72.0</td>\n",
       "      <td>246.0</td>\n",
       "      <td>7170.0</td>\n",
       "    </tr>\n",
       "    <tr>\n",
       "      <th>8</th>\n",
       "      <td>21.747573</td>\n",
       "      <td>0.790698</td>\n",
       "      <td>0.829268</td>\n",
       "      <td>0.782524</td>\n",
       "      <td>165.0</td>\n",
       "      <td>49.0</td>\n",
       "      <td>63.0</td>\n",
       "      <td>238.0</td>\n",
       "      <td>8730.0</td>\n",
       "    </tr>\n",
       "    <tr>\n",
       "      <th>10</th>\n",
       "      <td>20.388350</td>\n",
       "      <td>0.799342</td>\n",
       "      <td>0.846690</td>\n",
       "      <td>0.796117</td>\n",
       "      <td>167.0</td>\n",
       "      <td>44.0</td>\n",
       "      <td>61.0</td>\n",
       "      <td>243.0</td>\n",
       "      <td>9280.0</td>\n",
       "    </tr>\n",
       "    <tr>\n",
       "      <th>9</th>\n",
       "      <td>20.000000</td>\n",
       "      <td>0.812925</td>\n",
       "      <td>0.832753</td>\n",
       "      <td>0.800000</td>\n",
       "      <td>173.0</td>\n",
       "      <td>48.0</td>\n",
       "      <td>55.0</td>\n",
       "      <td>239.0</td>\n",
       "      <td>10360.0</td>\n",
       "    </tr>\n",
       "    <tr>\n",
       "      <th>12</th>\n",
       "      <td>20.194175</td>\n",
       "      <td>0.821053</td>\n",
       "      <td>0.815331</td>\n",
       "      <td>0.798058</td>\n",
       "      <td>177.0</td>\n",
       "      <td>53.0</td>\n",
       "      <td>51.0</td>\n",
       "      <td>234.0</td>\n",
       "      <td>11010.0</td>\n",
       "    </tr>\n",
       "    <tr>\n",
       "      <th>11</th>\n",
       "      <td>18.834951</td>\n",
       "      <td>0.825342</td>\n",
       "      <td>0.839721</td>\n",
       "      <td>0.811650</td>\n",
       "      <td>177.0</td>\n",
       "      <td>46.0</td>\n",
       "      <td>51.0</td>\n",
       "      <td>241.0</td>\n",
       "      <td>11220.0</td>\n",
       "    </tr>\n",
       "    <tr>\n",
       "      <th>15</th>\n",
       "      <td>19.029126</td>\n",
       "      <td>0.833922</td>\n",
       "      <td>0.822300</td>\n",
       "      <td>0.809709</td>\n",
       "      <td>181.0</td>\n",
       "      <td>51.0</td>\n",
       "      <td>47.0</td>\n",
       "      <td>236.0</td>\n",
       "      <td>11870.0</td>\n",
       "    </tr>\n",
       "    <tr>\n",
       "      <th>14</th>\n",
       "      <td>18.640777</td>\n",
       "      <td>0.837456</td>\n",
       "      <td>0.825784</td>\n",
       "      <td>0.813592</td>\n",
       "      <td>182.0</td>\n",
       "      <td>50.0</td>\n",
       "      <td>46.0</td>\n",
       "      <td>237.0</td>\n",
       "      <td>12100.0</td>\n",
       "    </tr>\n",
       "    <tr>\n",
       "      <th>16</th>\n",
       "      <td>18.446602</td>\n",
       "      <td>0.838028</td>\n",
       "      <td>0.829268</td>\n",
       "      <td>0.815534</td>\n",
       "      <td>182.0</td>\n",
       "      <td>49.0</td>\n",
       "      <td>46.0</td>\n",
       "      <td>238.0</td>\n",
       "      <td>12130.0</td>\n",
       "    </tr>\n",
       "    <tr>\n",
       "      <th>13</th>\n",
       "      <td>18.834951</td>\n",
       "      <td>0.841727</td>\n",
       "      <td>0.815331</td>\n",
       "      <td>0.811650</td>\n",
       "      <td>184.0</td>\n",
       "      <td>53.0</td>\n",
       "      <td>44.0</td>\n",
       "      <td>234.0</td>\n",
       "      <td>12410.0</td>\n",
       "    </tr>\n",
       "  </tbody>\n",
       "</table>\n",
       "</div>"
      ],
      "text/plain": [
       "         próg  precyzja   czułość  dokładność     tp    tn     fp     fn  \\\n",
       "3   31.650485  0.656566  0.905923    0.683495   92.0  27.0  136.0  260.0   \n",
       "1   35.533981  0.649425  0.787456    0.644660  106.0  61.0  122.0  226.0   \n",
       "0   36.310680  0.648810  0.759582    0.636893  110.0  69.0  118.0  218.0   \n",
       "5   27.961165  0.699164  0.874564    0.720388  120.0  36.0  108.0  251.0   \n",
       "2   33.203883  0.690789  0.731707    0.667961  134.0  77.0   94.0  210.0   \n",
       "4   27.184466  0.719403  0.839721    0.728155  134.0  46.0   94.0  241.0   \n",
       "6   23.300971  0.750751  0.871080    0.766990  145.0  37.0   83.0  250.0   \n",
       "7   21.941748  0.773585  0.857143    0.780583  156.0  41.0   72.0  246.0   \n",
       "8   21.747573  0.790698  0.829268    0.782524  165.0  49.0   63.0  238.0   \n",
       "10  20.388350  0.799342  0.846690    0.796117  167.0  44.0   61.0  243.0   \n",
       "9   20.000000  0.812925  0.832753    0.800000  173.0  48.0   55.0  239.0   \n",
       "12  20.194175  0.821053  0.815331    0.798058  177.0  53.0   51.0  234.0   \n",
       "11  18.834951  0.825342  0.839721    0.811650  177.0  46.0   51.0  241.0   \n",
       "15  19.029126  0.833922  0.822300    0.809709  181.0  51.0   47.0  236.0   \n",
       "14  18.640777  0.837456  0.825784    0.813592  182.0  50.0   46.0  237.0   \n",
       "16  18.446602  0.838028  0.829268    0.815534  182.0  49.0   46.0  238.0   \n",
       "13  18.834951  0.841727  0.815331    0.811650  184.0  53.0   44.0  234.0   \n",
       "\n",
       "    zysk_lub_strata  \n",
       "3           -5210.0  \n",
       "1           -3430.0  \n",
       "0           -2870.0  \n",
       "5             120.0  \n",
       "2            1690.0  \n",
       "4            2620.0  \n",
       "6            5090.0  \n",
       "7            7170.0  \n",
       "8            8730.0  \n",
       "10           9280.0  \n",
       "9           10360.0  \n",
       "12          11010.0  \n",
       "11          11220.0  \n",
       "15          11870.0  \n",
       "14          12100.0  \n",
       "16          12130.0  \n",
       "13          12410.0  "
      ]
     },
     "execution_count": 308,
     "metadata": {},
     "output_type": "execute_result"
    }
   ],
   "source": [
    "zestawienie_koszt_prog.sort_values('zysk_lub_strata')"
   ]
  },
  {
   "cell_type": "code",
   "execution_count": 367,
   "metadata": {},
   "outputs": [],
   "source": [
    "raport = pd.DataFrame()\n",
    "raport = zestawienie_koszt_prog.sort_values('zysk_lub_strata')\n",
    "zestawienie_koszt_prog.to_excel('zestawienie_koszt_strata_raport.xlsx')"
   ]
  },
  {
   "cell_type": "markdown",
   "metadata": {},
   "source": [
    "# zależność: precyzji, czułości i dokładności od zysku/stary"
   ]
  },
  {
   "cell_type": "markdown",
   "metadata": {},
   "source": [
    "### precyzja a stata/zysk"
   ]
  },
  {
   "cell_type": "code",
   "execution_count": 310,
   "metadata": {},
   "outputs": [],
   "source": [
    "prog1=0\n",
    "prog2=0\n",
    "cz1 =0\n",
    "cz2=0\n",
    "d1=0\n",
    "d2=0\n",
    "prec=0\n",
    "\n",
    "for i, element in enumerate(raport['zysk_lub_strata']):\n",
    "    if element >=0:\n",
    "        prog1 = raport['precyzja'].iloc[i-1]\n",
    "        prog2 = raport['precyzja'].iloc[i]\n",
    "        cz1=raport['czułość'].iloc[i-1]\n",
    "        cz2= raport['czułość'].iloc[i]\n",
    "        d1=raport['dokładność'].iloc[i-1]\n",
    "        d2= raport['dokładność'].iloc[i]\n",
    "        break\n",
    "    \n",
    "prec = (prog1 + prog2)/2 \n",
    "cz = (cz1+cz2)/2\n",
    "d =(d1+d2)/2"
   ]
  },
  {
   "cell_type": "code",
   "execution_count": 311,
   "metadata": {},
   "outputs": [],
   "source": [
    "raport['pr_prec'] = prec\n",
    "raport['pr_cz'] = cz\n",
    "raport['pr_d'] = d"
   ]
  },
  {
   "cell_type": "code",
   "execution_count": 312,
   "metadata": {},
   "outputs": [
    {
     "data": {
      "text/plain": [
       "<matplotlib.legend.Legend at 0x1bbd15c3cc0>"
      ]
     },
     "execution_count": 312,
     "metadata": {},
     "output_type": "execute_result"
    },
    {
     "data": {
      "image/png": "[encoded data removed]",
      "text/plain": [
       "<Figure size 900x500 with 1 Axes>"
      ]
     },
     "metadata": {},
     "output_type": "display_data"
    }
   ],
   "source": [
    "x = raport['zysk_lub_strata']\n",
    "\n",
    "#fig, ax = plt.subplots() \n",
    "plt.figure(figsize=(9, 5))   \n",
    "plt.plot(x,raport['czułość'], label='czulosc')  \n",
    "plt.plot(x,raport['precyzja'],  label='precyzja')  \n",
    "plt.plot(x,raport['dokładność'],  label='dokładność') \n",
    "plt.plot([0., 0.], [0., 1.0], \"r:\") \n",
    "\n",
    "plt.plot(x, raport['pr_prec'], \"m:\", label='próg dla precyzji'+ str(prec)) \n",
    "plt.plot(x, raport['pr_cz'], \"b:\", label='próg dla czułości'+ str(cz)) \n",
    "plt.plot(x, raport['pr_d'], \"g:\", label='próg dla dokładności'+ str(d)) \n",
    "plt.xlabel('zysk')  \n",
    "plt.ylabel('wartośći')  \n",
    "plt.title(\"czułość, precyzja i dokładność\")  \n",
    "\n",
    "plt.legend(fontsize=12)\n"
   ]
  },
  {
   "cell_type": "markdown",
   "metadata": {},
   "source": [
    "# procent źle sklasyfikowanych a dokładność klasyfikatora\n"
   ]
  },
  {
   "cell_type": "code",
   "execution_count": 313,
   "metadata": {},
   "outputs": [],
   "source": [
    "raport = raport.sort_values('próg')\n"
   ]
  },
  {
   "cell_type": "code",
   "execution_count": 314,
   "metadata": {},
   "outputs": [
    {
     "data": {
      "text/plain": [
       "<matplotlib.legend.Legend at 0x1bbd1f1e080>"
      ]
     },
     "execution_count": 314,
     "metadata": {},
     "output_type": "execute_result"
    },
    {
     "data": {
      "image/png": "[encoded data removed]",
      "text/plain": [
       "<Figure size 800x400 with 1 Axes>"
      ]
     },
     "metadata": {},
     "output_type": "display_data"
    }
   ],
   "source": [
    "x = raport['próg']\n",
    "\n",
    "#fig, ax = plt.subplots() \n",
    "plt.figure(figsize=(8, 4))   \n",
    "plt.plot(x,raport['czułość'], label='czulosc')  \n",
    "plt.plot(x,raport['precyzja'],  label='precyzja')  \n",
    "plt.plot(x,raport['dokładność'],  label='dokładność') \n",
    "\n",
    "\n",
    "plt.xlabel('% źle sklasyfikowanych')  \n",
    "plt.ylabel('y')  \n",
    "plt.title(\"czułość, precyzja i dokładność vs.% źle sklasyfikowanych \")  \n",
    "\n",
    "plt.legend(fontsize=12)"
   ]
  },
  {
   "cell_type": "markdown",
   "metadata": {},
   "source": [
    "# zysk-koszt a odsetek źle sklasyfikowanych"
   ]
  },
  {
   "cell_type": "code",
   "execution_count": 315,
   "metadata": {},
   "outputs": [
    {
     "data": {
      "text/plain": [
       "<matplotlib.legend.Legend at 0x1bbd1f8c1d0>"
      ]
     },
     "execution_count": 315,
     "metadata": {},
     "output_type": "execute_result"
    },
    {
     "data": {
      "image/png": "[encoded data removed]",
      "text/plain": [
       "<Figure size 800x400 with 1 Axes>"
      ]
     },
     "metadata": {},
     "output_type": "display_data"
    }
   ],
   "source": [
    "x = raport['próg']\n",
    "raport['zero'] = 0\n",
    "#fig, ax = plt.subplots() \n",
    "plt.figure(figsize=(8, 4))   \n",
    "plt.plot(x,raport['zysk_lub_strata'], label='zysk lub strata')  \n",
    "\n",
    "plt.plot(x,raport['zero'], 'r:')\n",
    "\n",
    "plt.xlabel('% źle sklasyfikowanych')  \n",
    "plt.ylabel('zysk')  \n",
    "plt.title(\"zysk/strata vs.% źle sklasyfikowanych \")  \n",
    "\n",
    "plt.legend(fontsize=12)"
   ]
  },
  {
   "cell_type": "markdown",
   "metadata": {},
   "source": [
    "# ustalenie polityki dla nowych 20 transformatorów"
   ]
  },
  {
   "cell_type": "code",
   "execution_count": 316,
   "metadata": {},
   "outputs": [],
   "source": [
    "nowe = pd.read_excel('awarie_transf_new.xlsx')"
   ]
  },
  {
   "cell_type": "code",
   "execution_count": 320,
   "metadata": {},
   "outputs": [],
   "source": [
    "nowe_dane = pd.DataFrame()"
   ]
  },
  {
   "cell_type": "code",
   "execution_count": 319,
   "metadata": {},
   "outputs": [],
   "source": [
    "#cechy które wykorzystuje klasyfikator\n",
    "tmp_cechy = ['Age', 'Schneider Electric', 'Siemens', '1-Phase Pole Transformer', '3-Phase Transformer', 'Overloads', 'MilesFromOcean']"
   ]
  },
  {
   "cell_type": "code",
   "execution_count": 321,
   "metadata": {},
   "outputs": [],
   "source": [
    "nowe_dane['Age'] = nowe['Age']"
   ]
  },
  {
   "cell_type": "code",
   "execution_count": 325,
   "metadata": {},
   "outputs": [
    {
     "name": "stderr",
     "output_type": "stream",
     "text": [
      "c:\\users\\kowalma3\\appdata\\local\\programs\\python\\python36\\lib\\site-packages\\pandas\\core\\indexing.py:202: SettingWithCopyWarning: \n",
      "A value is trying to be set on a copy of a slice from a DataFrame\n",
      "\n",
      "See the caveats in the documentation: http://pandas.pydata.org/pandas-docs/stable/user_guide/indexing.html#returning-a-view-versus-a-copy\n",
      "  self._setitem_with_indexer(indexer, value)\n"
     ]
    }
   ],
   "source": [
    "nowe_dane['Schneider Electric']=0\n",
    "for i, element in enumerate(nowe['Manufacturer']):\n",
    "    if nowe['Manufacturer'].iloc[i] == 'Schneider Electric':\n",
    "        nowe_dane['Schneider Electric'].iloc[i] = 1"
   ]
  },
  {
   "cell_type": "code",
   "execution_count": 329,
   "metadata": {},
   "outputs": [],
   "source": [
    "nowe_dane['Siemens']=0\n",
    "for i, element in enumerate(nowe['Manufacturer']):\n",
    "    if nowe['Manufacturer'].iloc[i] == 'Siemens':\n",
    "        nowe_dane['Siemens'].iloc[i] = 1"
   ]
  },
  {
   "cell_type": "code",
   "execution_count": 332,
   "metadata": {},
   "outputs": [
    {
     "name": "stderr",
     "output_type": "stream",
     "text": [
      "c:\\users\\kowalma3\\appdata\\local\\programs\\python\\python36\\lib\\site-packages\\pandas\\core\\indexing.py:202: SettingWithCopyWarning: \n",
      "A value is trying to be set on a copy of a slice from a DataFrame\n",
      "\n",
      "See the caveats in the documentation: http://pandas.pydata.org/pandas-docs/stable/user_guide/indexing.html#returning-a-view-versus-a-copy\n",
      "  self._setitem_with_indexer(indexer, value)\n"
     ]
    }
   ],
   "source": [
    "nowe_dane['1-Phase Pole Transformer']=0\n",
    "for i, element in enumerate(nowe['AssetType']):\n",
    "    if nowe['AssetType'].iloc[i] == '1-Phase Pole Transformer':\n",
    "        nowe_dane['1-Phase Pole Transformer'].iloc[i] = 1"
   ]
  },
  {
   "cell_type": "code",
   "execution_count": 334,
   "metadata": {},
   "outputs": [],
   "source": [
    "nowe_dane['3-Phase Transformer']=0\n",
    "for i, element in enumerate(nowe['AssetType']):\n",
    "    if nowe['AssetType'].iloc[i] == '3-Phase Transformer':\n",
    "        nowe_dane['3-Phase Transformer'].iloc[i] = 1"
   ]
  },
  {
   "cell_type": "code",
   "execution_count": 336,
   "metadata": {},
   "outputs": [],
   "source": [
    "map_overloads = {'0-19':0, '20-60':1, '60+':2 }\n",
    "map_milesfromocean = {'0-30':0, '30-60':1, '60-90':2, 'More than 90':3}"
   ]
  },
  {
   "cell_type": "code",
   "execution_count": 337,
   "metadata": {},
   "outputs": [],
   "source": [
    "nowe_dane['Overloads'] = nowe['Overloads'].replace(map_overloads)\n",
    "nowe_dane['MilesFromOcean'] = nowe['MilesFromOcean'].replace(map_milesfromocean)\n"
   ]
  },
  {
   "cell_type": "code",
   "execution_count": 338,
   "metadata": {},
   "outputs": [
    {
     "data": {
      "text/html": [
       "<div>\n",
       "<style scoped>\n",
       "    .dataframe tbody tr th:only-of-type {\n",
       "        vertical-align: middle;\n",
       "    }\n",
       "\n",
       "    .dataframe tbody tr th {\n",
       "        vertical-align: top;\n",
       "    }\n",
       "\n",
       "    .dataframe thead th {\n",
       "        text-align: right;\n",
       "    }\n",
       "</style>\n",
       "<table border=\"1\" class=\"dataframe\">\n",
       "  <thead>\n",
       "    <tr style=\"text-align: right;\">\n",
       "      <th></th>\n",
       "      <th>Age</th>\n",
       "      <th>Schneider Electric</th>\n",
       "      <th>Siemens</th>\n",
       "      <th>1-Phase Pole Transformer</th>\n",
       "      <th>3-Phase Transformer</th>\n",
       "      <th>Overloads</th>\n",
       "      <th>MilesFromOcean</th>\n",
       "    </tr>\n",
       "  </thead>\n",
       "  <tbody>\n",
       "    <tr>\n",
       "      <th>0</th>\n",
       "      <td>80.0</td>\n",
       "      <td>0</td>\n",
       "      <td>0</td>\n",
       "      <td>0</td>\n",
       "      <td>0</td>\n",
       "      <td>2</td>\n",
       "      <td>0</td>\n",
       "    </tr>\n",
       "    <tr>\n",
       "      <th>1</th>\n",
       "      <td>80.0</td>\n",
       "      <td>0</td>\n",
       "      <td>0</td>\n",
       "      <td>1</td>\n",
       "      <td>0</td>\n",
       "      <td>2</td>\n",
       "      <td>1</td>\n",
       "    </tr>\n",
       "    <tr>\n",
       "      <th>2</th>\n",
       "      <td>77.1</td>\n",
       "      <td>1</td>\n",
       "      <td>0</td>\n",
       "      <td>1</td>\n",
       "      <td>0</td>\n",
       "      <td>1</td>\n",
       "      <td>2</td>\n",
       "    </tr>\n",
       "    <tr>\n",
       "      <th>3</th>\n",
       "      <td>77.1</td>\n",
       "      <td>1</td>\n",
       "      <td>0</td>\n",
       "      <td>1</td>\n",
       "      <td>0</td>\n",
       "      <td>1</td>\n",
       "      <td>2</td>\n",
       "    </tr>\n",
       "    <tr>\n",
       "      <th>4</th>\n",
       "      <td>58.5</td>\n",
       "      <td>1</td>\n",
       "      <td>0</td>\n",
       "      <td>0</td>\n",
       "      <td>1</td>\n",
       "      <td>2</td>\n",
       "      <td>3</td>\n",
       "    </tr>\n",
       "    <tr>\n",
       "      <th>5</th>\n",
       "      <td>50.0</td>\n",
       "      <td>0</td>\n",
       "      <td>0</td>\n",
       "      <td>1</td>\n",
       "      <td>0</td>\n",
       "      <td>1</td>\n",
       "      <td>0</td>\n",
       "    </tr>\n",
       "    <tr>\n",
       "      <th>6</th>\n",
       "      <td>30.5</td>\n",
       "      <td>1</td>\n",
       "      <td>0</td>\n",
       "      <td>0</td>\n",
       "      <td>0</td>\n",
       "      <td>1</td>\n",
       "      <td>0</td>\n",
       "    </tr>\n",
       "    <tr>\n",
       "      <th>7</th>\n",
       "      <td>26.7</td>\n",
       "      <td>1</td>\n",
       "      <td>0</td>\n",
       "      <td>0</td>\n",
       "      <td>0</td>\n",
       "      <td>2</td>\n",
       "      <td>0</td>\n",
       "    </tr>\n",
       "    <tr>\n",
       "      <th>8</th>\n",
       "      <td>23.9</td>\n",
       "      <td>0</td>\n",
       "      <td>0</td>\n",
       "      <td>0</td>\n",
       "      <td>0</td>\n",
       "      <td>1</td>\n",
       "      <td>3</td>\n",
       "    </tr>\n",
       "    <tr>\n",
       "      <th>9</th>\n",
       "      <td>19.9</td>\n",
       "      <td>0</td>\n",
       "      <td>0</td>\n",
       "      <td>1</td>\n",
       "      <td>0</td>\n",
       "      <td>1</td>\n",
       "      <td>0</td>\n",
       "    </tr>\n",
       "    <tr>\n",
       "      <th>10</th>\n",
       "      <td>17.2</td>\n",
       "      <td>0</td>\n",
       "      <td>1</td>\n",
       "      <td>0</td>\n",
       "      <td>1</td>\n",
       "      <td>1</td>\n",
       "      <td>2</td>\n",
       "    </tr>\n",
       "    <tr>\n",
       "      <th>11</th>\n",
       "      <td>9.7</td>\n",
       "      <td>1</td>\n",
       "      <td>0</td>\n",
       "      <td>0</td>\n",
       "      <td>0</td>\n",
       "      <td>1</td>\n",
       "      <td>1</td>\n",
       "    </tr>\n",
       "    <tr>\n",
       "      <th>12</th>\n",
       "      <td>9.2</td>\n",
       "      <td>0</td>\n",
       "      <td>1</td>\n",
       "      <td>1</td>\n",
       "      <td>0</td>\n",
       "      <td>1</td>\n",
       "      <td>3</td>\n",
       "    </tr>\n",
       "    <tr>\n",
       "      <th>13</th>\n",
       "      <td>8.6</td>\n",
       "      <td>0</td>\n",
       "      <td>0</td>\n",
       "      <td>1</td>\n",
       "      <td>0</td>\n",
       "      <td>1</td>\n",
       "      <td>0</td>\n",
       "    </tr>\n",
       "    <tr>\n",
       "      <th>14</th>\n",
       "      <td>8.5</td>\n",
       "      <td>0</td>\n",
       "      <td>1</td>\n",
       "      <td>0</td>\n",
       "      <td>0</td>\n",
       "      <td>2</td>\n",
       "      <td>1</td>\n",
       "    </tr>\n",
       "    <tr>\n",
       "      <th>15</th>\n",
       "      <td>8.5</td>\n",
       "      <td>0</td>\n",
       "      <td>0</td>\n",
       "      <td>0</td>\n",
       "      <td>0</td>\n",
       "      <td>2</td>\n",
       "      <td>0</td>\n",
       "    </tr>\n",
       "    <tr>\n",
       "      <th>16</th>\n",
       "      <td>8.5</td>\n",
       "      <td>0</td>\n",
       "      <td>1</td>\n",
       "      <td>0</td>\n",
       "      <td>0</td>\n",
       "      <td>2</td>\n",
       "      <td>0</td>\n",
       "    </tr>\n",
       "    <tr>\n",
       "      <th>17</th>\n",
       "      <td>8.4</td>\n",
       "      <td>0</td>\n",
       "      <td>0</td>\n",
       "      <td>1</td>\n",
       "      <td>0</td>\n",
       "      <td>1</td>\n",
       "      <td>0</td>\n",
       "    </tr>\n",
       "    <tr>\n",
       "      <th>18</th>\n",
       "      <td>7.8</td>\n",
       "      <td>0</td>\n",
       "      <td>0</td>\n",
       "      <td>1</td>\n",
       "      <td>0</td>\n",
       "      <td>2</td>\n",
       "      <td>1</td>\n",
       "    </tr>\n",
       "    <tr>\n",
       "      <th>19</th>\n",
       "      <td>77.1</td>\n",
       "      <td>1</td>\n",
       "      <td>0</td>\n",
       "      <td>1</td>\n",
       "      <td>0</td>\n",
       "      <td>1</td>\n",
       "      <td>2</td>\n",
       "    </tr>\n",
       "  </tbody>\n",
       "</table>\n",
       "</div>"
      ],
      "text/plain": [
       "     Age  Schneider Electric  Siemens  1-Phase Pole Transformer  \\\n",
       "0   80.0                   0        0                         0   \n",
       "1   80.0                   0        0                         1   \n",
       "2   77.1                   1        0                         1   \n",
       "3   77.1                   1        0                         1   \n",
       "4   58.5                   1        0                         0   \n",
       "5   50.0                   0        0                         1   \n",
       "6   30.5                   1        0                         0   \n",
       "7   26.7                   1        0                         0   \n",
       "8   23.9                   0        0                         0   \n",
       "9   19.9                   0        0                         1   \n",
       "10  17.2                   0        1                         0   \n",
       "11   9.7                   1        0                         0   \n",
       "12   9.2                   0        1                         1   \n",
       "13   8.6                   0        0                         1   \n",
       "14   8.5                   0        1                         0   \n",
       "15   8.5                   0        0                         0   \n",
       "16   8.5                   0        1                         0   \n",
       "17   8.4                   0        0                         1   \n",
       "18   7.8                   0        0                         1   \n",
       "19  77.1                   1        0                         1   \n",
       "\n",
       "    3-Phase Transformer  Overloads  MilesFromOcean  \n",
       "0                     0          2               0  \n",
       "1                     0          2               1  \n",
       "2                     0          1               2  \n",
       "3                     0          1               2  \n",
       "4                     1          2               3  \n",
       "5                     0          1               0  \n",
       "6                     0          1               0  \n",
       "7                     0          2               0  \n",
       "8                     0          1               3  \n",
       "9                     0          1               0  \n",
       "10                    1          1               2  \n",
       "11                    0          1               1  \n",
       "12                    0          1               3  \n",
       "13                    0          1               0  \n",
       "14                    0          2               1  \n",
       "15                    0          2               0  \n",
       "16                    0          2               0  \n",
       "17                    0          1               0  \n",
       "18                    0          2               1  \n",
       "19                    0          1               2  "
      ]
     },
     "execution_count": 338,
     "metadata": {},
     "output_type": "execute_result"
    }
   ],
   "source": [
    "nowe_dane"
   ]
  },
  {
   "cell_type": "code",
   "execution_count": 339,
   "metadata": {},
   "outputs": [],
   "source": [
    "scaler = StandardScaler()\n",
    "przeskalowane = scaler.fit_transform(nowe_dane)\n"
   ]
  },
  {
   "cell_type": "code",
   "execution_count": null,
   "metadata": {},
   "outputs": [],
   "source": []
  },
  {
   "cell_type": "code",
   "execution_count": 357,
   "metadata": {},
   "outputs": [],
   "source": [
    "nowe['Predykcja']=clf.predict(przeskalowane) #ostatni klasyfikator zapisany w zmiennej clf, jest w tym pliku najlepszy"
   ]
  },
  {
   "cell_type": "code",
   "execution_count": 358,
   "metadata": {},
   "outputs": [],
   "source": [
    "def zmien_status(x):\n",
    "    if x == 1:\n",
    "        return 'OK'\n",
    "    else:\n",
    "        return 'Fail'"
   ]
  },
  {
   "cell_type": "code",
   "execution_count": 359,
   "metadata": {},
   "outputs": [],
   "source": [
    "nowe['Predykcja'] = nowe['Predykcja'].apply(zmien_status)"
   ]
  },
  {
   "cell_type": "code",
   "execution_count": 365,
   "metadata": {},
   "outputs": [
    {
     "data": {
      "text/plain": [
       "OK      16\n",
       "Fail     4\n",
       "Name: Predykcja, dtype: int64"
      ]
     },
     "execution_count": 365,
     "metadata": {},
     "output_type": "execute_result"
    }
   ],
   "source": [
    "nowe['Predykcja'].value_counts()"
   ]
  },
  {
   "cell_type": "code",
   "execution_count": 366,
   "metadata": {},
   "outputs": [],
   "source": [
    "nowe.to_excel('predykca.xlsx')"
   ]
  },
  {
   "cell_type": "code",
   "execution_count": null,
   "metadata": {},
   "outputs": [],
   "source": []
  }
 ],
 "metadata": {
  "kernelspec": {
   "display_name": "Python 3",
   "language": "python",
   "name": "python3"
  },
  "language_info": {
   "codemirror_mode": {
    "name": "ipython",
    "version": 3
   },
   "file_extension": ".py",
   "mimetype": "text/x-python",
   "name": "python",
   "nbconvert_exporter": "python",
   "pygments_lexer": "ipython3",
   "version": "3.6.6"
  }
 },
 "nbformat": 4,
 "nbformat_minor": 2
}
